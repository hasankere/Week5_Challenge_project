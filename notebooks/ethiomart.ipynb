{
 "cells": [
  {
   "cell_type": "code",
   "execution_count": 11,
   "metadata": {},
   "outputs": [],
   "source": [
    "import pandas as pd\n",
    "import numpy as np\n",
    "from sklearn.model_selection import train_test_split\n",
    "from transformers import BertTokenizer, BertForTokenClassification, AdamW\n",
    "from transformers import get_scheduler\n",
    "import torch\n",
    "from torch.utils.data import DataLoader, Dataset\n",
    "from seqeval.metrics import classification_report\n",
    "import sqlite3\n"
   ]
  },
  {
   "cell_type": "code",
   "execution_count": 23,
   "metadata": {},
   "outputs": [
    {
     "name": "stdout",
     "output_type": "stream",
     "text": [
      "         Channel Title    Channel Username    ID Message  \\\n",
      "0  Sheger online-store  @Shageronlinestore  5333     NaN   \n",
      "1  Sheger online-store  @Shageronlinestore  5332     NaN   \n",
      "2  Sheger online-store  @Shageronlinestore  5331     NaN   \n",
      "3  Sheger online-store  @Shageronlinestore  5330     NaN   \n",
      "4  Sheger online-store  @Shageronlinestore  5329     NaN   \n",
      "\n",
      "                        Date                          Media Path  \n",
      "0  2024-09-20 11:50:03+00:00  photos/@Shageronlinestore_5333.jpg  \n",
      "1  2024-09-20 11:50:03+00:00  photos/@Shageronlinestore_5332.jpg  \n",
      "2  2024-09-20 11:50:03+00:00  photos/@Shageronlinestore_5331.jpg  \n",
      "3  2024-09-20 11:50:02+00:00  photos/@Shageronlinestore_5330.jpg  \n",
      "4  2024-09-20 11:50:02+00:00  photos/@Shageronlinestore_5329.jpg  \n"
     ]
    }
   ],
   "source": [
    "\n",
    "# Load your dataset\n",
    "data = pd.read_csv('C:\\\\Users\\\\Hasan\\\\Desktop\\\\data science folder\\\\telegram_data.csv', encoding='latin1')\n",
    "\n",
    "# Check the first few rows to understand its structure\n",
    "print(data.head())\n"
   ]
  },
  {
   "cell_type": "code",
   "execution_count": 34,
   "metadata": {},
   "outputs": [
    {
     "name": "stderr",
     "output_type": "stream",
     "text": [
      "[nltk_data] Downloading package stopwords to\n",
      "[nltk_data]     C:\\Users\\Hasan\\AppData\\Roaming\\nltk_data...\n",
      "[nltk_data]   Package stopwords is already up-to-date!\n"
     ]
    },
    {
     "name": "stdout",
     "output_type": "stream",
     "text": [
      "  Message processed_message\n",
      "0     NaN                  \n",
      "1     NaN                  \n",
      "2     NaN                  \n",
      "3     NaN                  \n",
      "4     NaN                  \n"
     ]
    }
   ],
   "source": [
    "import re\n",
    "import pandas as pd\n",
    "from nltk.corpus import stopwords\n",
    "import nltk\n",
    "\n",
    "# Download stopwords if not already done\n",
    "nltk.download('stopwords')\n",
    "\n",
    "# Set of stop words (adjust for your language if needed)\n",
    "stop_words = set(stopwords.words('english'))\n",
    "\n",
    "def preprocess_text(text):\n",
    "    \"\"\"\n",
    "    Preprocesses the input text by:\n",
    "    1. Handling NaN values\n",
    "    2. Removing URLs, mentions, and non-alphanumeric characters\n",
    "    3. Converting to lowercase\n",
    "    4. Removing stopwords (optional)\n",
    "    \"\"\"\n",
    "    # Handle NaN values by returning an empty string\n",
    "    if pd.isna(text):\n",
    "        return ''\n",
    "    \n",
    "    # Remove URLs, mentions, and non-alphanumeric characters\n",
    "    text = re.sub(r'http\\S+|www\\S+', '', text)  # Remove URLs\n",
    "    text = re.sub(r'@\\w+', '', text)  # Remove mentions (usernames)\n",
    "    text = re.sub(r'[^A-Za-z0-9\\s]', '', text)  # Remove special characters\n",
    "    text = text.lower()  # Convert to lowercase\n",
    "\n",
    "    # Remove stopwords\n",
    "    words = text.split()\n",
    "    words = [word for word in words if word not in stop_words]\n",
    "\n",
    "    return ' '.join(words)\n",
    "\n",
    "# Assuming `data` is a pandas DataFrame with a 'Message' column\n",
    "# Apply preprocessing only to non-NaN rows\n",
    "data['processed_message'] = data['Message'].apply(preprocess_text)\n",
    "\n",
    "# Check the results\n",
    "print(data[['Message', 'processed_message']].head())\n"
   ]
  },
  {
   "cell_type": "code",
   "execution_count": 41,
   "metadata": {},
   "outputs": [
    {
     "name": "stdout",
     "output_type": "stream",
     "text": [
      "Selected Channels: ['@Shageronlinestore', '@Shageronlinestore', '@Shageronlinestore', '@Shageronlinestore', '@Shageronlinestore']\n"
     ]
    }
   ],
   "source": [
    "\n",
    "# Extract the 'Channel Username' column\n",
    "channels = data['Channel Username'].dropna().tolist()\n",
    "\n",
    "# Ensure there are at least 5 channels\n",
    "if len(channels) < 5:\n",
    "    print(\"Not enough channels in the dataset. Please add more.\")\n",
    "else:\n",
    "    selected_channels = channels[:5]  # Select the first 5 channels\n",
    "    print(f\"Selected Channels: {selected_channels}\")\n",
    "\n"
   ]
  },
  {
   "cell_type": "code",
   "execution_count": 43,
   "metadata": {},
   "outputs": [
    {
     "name": "stdout",
     "output_type": "stream",
     "text": [
      "Cleaned Text: check new product available 5000 etb\n"
     ]
    },
    {
     "name": "stderr",
     "output_type": "stream",
     "text": [
      "[nltk_data] Downloading package stopwords to\n",
      "[nltk_data]     C:\\Users\\Hasan\\AppData\\Roaming\\nltk_data...\n",
      "[nltk_data]   Package stopwords is already up-to-date!\n"
     ]
    }
   ],
   "source": [
    "import re\n",
    "import nltk\n",
    "from nltk.corpus import stopwords\n",
    "\n",
    "# Download stopwords if not already done\n",
    "nltk.download('stopwords')\n",
    "\n",
    "stop_words = set(stopwords.words('english'))\n",
    "\n",
    "def preprocess_text(text):\n",
    "    # Handle NaN values by returning an empty string\n",
    "    if pd.isna(text):\n",
    "        return ''\n",
    "    \n",
    "    # Remove URLs, mentions, and non-alphanumeric characters\n",
    "    text = re.sub(r'http\\S+|www\\S+', '', text)  # Remove URLs\n",
    "    text = re.sub(r'@\\w+', '', text)  # Remove mentions (usernames)\n",
    "    text = re.sub(r'[^A-Za-z0-9\\s]', '', text)  # Remove special characters\n",
    "    text = text.lower()  # Convert to lowercase\n",
    "\n",
    "    # Remove stopwords\n",
    "    words = text.split()\n",
    "    words = [word for word in words if word not in stop_words]\n",
    "\n",
    "    return ' '.join(words)\n",
    "\n",
    "# Example usage\n",
    "text = \"Check out our new product, available for 5000 ETB!\"\n",
    "cleaned_text = preprocess_text(text)\n",
    "print(f\"Cleaned Text: {cleaned_text}\")\n"
   ]
  },
  {
   "cell_type": "code",
   "execution_count": 48,
   "metadata": {},
   "outputs": [],
   "source": [
    "# Example data (you would replace this with your actual fetched data)\n",
    "data = {\n",
    "    'channel_name': ['Channel 1', 'Channel 2'],\n",
    "    'text': ['Product 1 for 1000 ETB', 'Product 2 for 2000 ETB'],\n",
    "    'image_path': ['path_to_image1', 'path_to_image2']\n",
    "}\n",
    "\n",
    "# Create DataFrame\n",
    "df = pd.DataFrame(data)\n",
    "\n",
    "# Save to CSV\n",
    "df.to_csv('processed_data.csv', index=False)\n"
   ]
  },
  {
   "cell_type": "code",
   "execution_count": 50,
   "metadata": {},
   "outputs": [
    {
     "name": "stdout",
     "output_type": "stream",
     "text": [
      "<class 'dict'>\n"
     ]
    }
   ],
   "source": [
    "print(type(data))  # Should output <class 'pandas.core.frame.DataFrame'>\n"
   ]
  }
 ],
 "metadata": {
  "kernelspec": {
   "display_name": "base",
   "language": "python",
   "name": "python3"
  },
  "language_info": {
   "codemirror_mode": {
    "name": "ipython",
    "version": 3
   },
   "file_extension": ".py",
   "mimetype": "text/x-python",
   "name": "python",
   "nbconvert_exporter": "python",
   "pygments_lexer": "ipython3",
   "version": "3.10.15"
  }
 },
 "nbformat": 4,
 "nbformat_minor": 2
}
